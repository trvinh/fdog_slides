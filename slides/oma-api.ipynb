{
 "cells": [
  {
   "cell_type": "code",
   "execution_count": null,
   "metadata": {},
   "outputs": [],
   "source": [
    "import sys\n",
    "!{sys.executable} -m pip install coreapi\n",
    "!{sys.executable} -m pip install oauthlib"
   ]
  },
  {
   "cell_type": "code",
   "execution_count": 39,
   "metadata": {},
   "outputs": [
    {
     "name": "stdout",
     "output_type": "stream",
     "text": [
      "OrderedDict([('entry_nr', 7660315), ('entry_url', 'https://omabrowser.org/api/protein/7660315/'), ('omaid', 'HUMAN11953'), ('canonicalid', 'P53_HUMAN'), ('sequence_md5', 'c133dfce69f606f20865e9008199f852'), ('oma_group', 766309), ('oma_hog_id', 'HOG:0279153.1b'), ('chromosome', '17'), ('locus', OrderedDict([('start', 7669609), ('end', 7676594), ('strand', -1)])), ('is_main_isoform', True), ('roothog_id', 279153), ('hog_levels', ['Homininae', 'Hominidae', 'Hominoidea', 'Catarrhini', 'Simiiformes', 'Haplorrhini', 'Primates', 'Euarchontoglires', 'Boreoeutheria', 'Eutheria', 'Theria', 'Mammalia', 'Amniota', 'Tetrapoda', 'Sarcopterygii', 'Euteleostomi', 'Vertebrata', 'Chordata']), ('sequence_length', 393), ('sequence', 'MEEPQSDPSVEPPLSQETFSDLWKLLPENNVLSPLPSQAMDDLMLSPDDIEQWFTEDPGPDEAPRMPEAAPPVAPAPAAPTPAAPAPAPSWPLSSSVPSQKTYQGSYGFRLGFLHSGTAKSVTCTYSPALNKMFCQLAKTCPVQLWVDSTPPPGTRVRAMAIYKQSQHMTEVVRRCPHHERCSDSDGLAPPQHLIRVEGNLRVEYLDDRNTFRHSVVVPYEPPEVGSDCTTIHYNYMCNSSCMGGMNRRPILTIITLEDSSGNLLGRNSFEVRVCACPGRDRRTEEENLRKKGEPHHELPPGSTKRALPNNTSSSPQPKKKPLDGEYFTLQIRGRERFEMFRELNEALELKDAQAGKEPGGSRAHSSHLKSKKGQSTSRHKKLMFKTEGPDSD'), ('cdna', 'ATGGAGGAGCCGCAGTCAGATCCTAGCGTCGAGCCCCCTCTGAGTCAGGAAACATTTTCAGACCTATGGAAACTACTTCCTGAAAACAACGTTCTGTCCCCCTTGCCGTCCCAAGCAATGGATGATTTGATGCTGTCCCCGGACGATATTGAACAATGGTTCACTGAAGACCCAGGTCCAGATGAAGCTCCCAGAATGCCAGAGGCTGCTCCCCCCGTGGCCCCTGCACCAGCAGCTCCTACACCGGCGGCCCCTGCACCAGCCCCCTCCTGGCCCCTGTCATCTTCTGTCCCTTCCCAGAAAACCTACCAGGGCAGCTACGGTTTCCGTCTGGGCTTCTTGCATTCTGGGACAGCCAAGTCTGTGACTTGCACGTACTCCCCTGCCCTCAACAAGATGTTTTGCCAACTGGCCAAGACCTGCCCTGTGCAGCTGTGGGTTGATTCCACACCCCCGCCCGGCACCCGCGTCCGCGCCATGGCCATCTACAAGCAGTCACAGCACATGACGGAGGTTGTGAGGCGCTGCCCCCACCATGAGCGCTGCTCAGATAGCGATGGTCTGGCCCCTCCTCAGCATCTTATCCGAGTGGAAGGAAATTTGCGTGTGGAGTATTTGGATGACAGAAACACTTTTCGACATAGTGTGGTGGTGCCCTATGAGCCGCCTGAGGTTGGCTCTGACTGTACCACCATCCACTACAACTACATGTGTAACAGTTCCTGCATGGGCGGCATGAACCGGAGGCCCATCCTCACCATCATCACACTGGAAGACTCCAGTGGTAATCTACTGGGACGGAACAGCTTTGAGGTGCGTGTTTGTGCCTGTCCTGGGAGAGACCGGCGCACAGAGGAAGAGAATCTCCGCAAGAAAGGGGAGCCTCACCACGAGCTGCCCCCAGGGAGCACTAAGCGAGCACTGCCCAACAACACCAGCTCCTCTCCCCAGCCAAAGAAGAAACCACTGGATGGAGAATATTTCACCCTTCAGATCCGTGGGCGTGAGCGCTTCGAGATGTTCCGAGAGCTGAATGAGGCCTTGGAACTCAAGGATGCCCAGGCTGGGAAGGAGCCAGGGGGGAGCAGGGCTCACTCCAGCCACCTGAAGTCCAAAAAGGGTCAGTCTACCTCCCGCCATAAAAAACTCATGTTCAAGACAGAAGGGCCTGACTCAGACTGA'), ('domains', 'https://omabrowser.org/api/protein/7660315/domains/'), ('xref', 'https://omabrowser.org/api/protein/7660315/xref/'), ('orthologs', 'https://omabrowser.org/api/protein/7660315/orthologs/'), ('homoeologs', None), ('ontology', 'https://omabrowser.org/api/protein/7660315/ontology/'), ('oma_group_url', 'https://omabrowser.org/api/group/766309/'), ('oma_hog_members', 'https://omabrowser.org/api/hog/HOG:0279153.1b/members/'), ('alternative_isoforms_urls', ['https://omabrowser.org/api/protein/7660314/'])])\n"
     ]
    }
   ],
   "source": [
    "import coreapi\n",
    "import oauthlib\n",
    "\n",
    "# Initialize a client & load the schema document\n",
    "client = coreapi.Client()\n",
    "schema = client.get(\"https://omabrowser.org/api/docs\")\n",
    "\n",
    "# Set protein ID\n",
    "seedID = \"P53_HUMAN\"\n",
    "\n",
    "# Define function for getting protein information\n",
    "def get_seq(ID):\n",
    "    action = [\"protein\", \"read\"]\n",
    "    params = {\n",
    "        \"entry_id\": ID,\n",
    "    }\n",
    "    result = client.action(schema, action, params=params)\n",
    "    return(result)\n",
    "\n",
    "# Print result (protein information)\n",
    "seedInfo = get_seq(seedID)\n",
    "print(seedInfo)"
   ]
  },
  {
   "cell_type": "code",
   "execution_count": 40,
   "metadata": {},
   "outputs": [
    {
     "data": {
      "text/plain": [
       "'MEEPQSDPSVEPPLSQETFSDLWKLLPENNVLSPLPSQAMDDLMLSPDDIEQWFTEDPGPDEAPRMPEAAPPVAPAPAAPTPAAPAPAPSWPLSSSVPSQKTYQGSYGFRLGFLHSGTAKSVTCTYSPALNKMFCQLAKTCPVQLWVDSTPPPGTRVRAMAIYKQSQHMTEVVRRCPHHERCSDSDGLAPPQHLIRVEGNLRVEYLDDRNTFRHSVVVPYEPPEVGSDCTTIHYNYMCNSSCMGGMNRRPILTIITLEDSSGNLLGRNSFEVRVCACPGRDRRTEEENLRKKGEPHHELPPGSTKRALPNNTSSSPQPKKKPLDGEYFTLQIRGRERFEMFRELNEALELKDAQAGKEPGGSRAHSSHLKSKKGQSTSRHKKLMFKTEGPDSD'"
      ]
     },
     "execution_count": 40,
     "metadata": {},
     "output_type": "execute_result"
    }
   ],
   "source": [
    "# Get protein sequence\n",
    "seedInfo[\"sequence\"]"
   ]
  },
  {
   "cell_type": "code",
   "execution_count": 41,
   "metadata": {},
   "outputs": [
    {
     "name": "stdout",
     "output_type": "stream",
     "text": [
      ">P53_HUMAN\n",
      "MEEPQSDPSVEPPLSQETFSDLWKLLPENNVLSPLPSQAMDDLMLSPDDIEQWFTEDPGPDEAPRMPEAAPPVAPAPAAPTPAAPAPAPSWPLSSSVPSQKTYQGSYGFRLGFLHSGTAKSVTCTYSPALNKMFCQLAKTCPVQLWVDSTPPPGTRVRAMAIYKQSQHMTEVVRRCPHHERCSDSDGLAPPQHLIRVEGNLRVEYLDDRNTFRHSVVVPYEPPEVGSDCTTIHYNYMCNSSCMGGMNRRPILTIITLEDSSGNLLGRNSFEVRVCACPGRDRRTEEENLRKKGEPHHELPPGSTKRALPNNTSSSPQPKKKPLDGEYFTLQIRGRERFEMFRELNEALELKDAQAGKEPGGSRAHSSHLKSKKGQSTSRHKKLMFKTEGPDSD\n"
     ]
    }
   ],
   "source": [
    "# Create fasta sequence\n",
    "fasta_seq = \">\" + id + \"\\n\" + seedInfo[\"sequence\"]\n",
    "print(fasta_seq)"
   ]
  },
  {
   "cell_type": "code",
   "execution_count": 42,
   "metadata": {},
   "outputs": [
    {
     "name": "stdout",
     "output_type": "stream",
     "text": [
      "OrderedDict([('seq_id', 'c133dfce69f606f20865e9008199f852'), ('regions', [OrderedDict([('domainid', 'PF08563'), ('name', 'P53 transactivation motif'), ('source', 'Pfam'), ('location', '6:29')]), OrderedDict([('domainid', '2.60.40.720'), ('name', ''), ('source', 'CATH/Gene3D'), ('location', '93:292')]), OrderedDict([('domainid', '4.10.170.10'), ('name', 'p53, subunit A'), ('source', 'CATH/Gene3D'), ('location', '319:353')])]), ('length', 394)])\n"
     ]
    }
   ],
   "source": [
    "# Get protein domain\n",
    "def get_anno(ID):\n",
    "    action = [\"protein\", \"domains\"]\n",
    "    params = {\n",
    "        \"entry_id\": ID,\n",
    "    }\n",
    "    result = client.action(schema, action, params=params)\n",
    "    return(result)\n",
    "\n",
    "annotation = get_anno(seedID)\n",
    "print(annotation)"
   ]
  },
  {
   "cell_type": "code",
   "execution_count": 12,
   "metadata": {},
   "outputs": [],
   "source": [
    "# Function for parsing annotation from OMA\n",
    "def print_domain(domainInfo,geneID):\n",
    "    domainBlock = \"\"\n",
    "    for domain in domainInfo[\"regions\"]:\n",
    "        source = domain[\"source\"]\n",
    "        name = domain[\"name\"]\n",
    "        region = domain[\"location\"].split(':')\n",
    "        start = region[0]\n",
    "        end = region[1]\n",
    "        if(len(name) > 0):\n",
    "            domainLine = geneID+\"\\t\"+source+\" \"+name+\"\\t\"+start+\"\\t\"+end+\"\\n\"\n",
    "            domainBlock += domainLine\n",
    "    return(domainBlock)"
   ]
  },
  {
   "cell_type": "code",
   "execution_count": 43,
   "metadata": {},
   "outputs": [
    {
     "name": "stdout",
     "output_type": "stream",
     "text": [
      "P53_HUMAN\tPfam P53 transactivation motif\t6\t29\n",
      "P53_HUMAN\tCATH/Gene3D p53, subunit A\t319\t353\n",
      "\n"
     ]
    }
   ],
   "source": [
    "# Print protein domain annotation\n",
    "domain = print_domain(annotation,seedID)\n",
    "print(domain)"
   ]
  },
  {
   "cell_type": "code",
   "execution_count": 37,
   "metadata": {},
   "outputs": [
    {
     "name": "stdout",
     "output_type": "stream",
     "text": [
      "48\n",
      "OrderedDict([('group_nr', 766309), ('fingerprint', 'SFMCNSS'), ('related_groups', 'https://omabrowser.org/api/group/766309/close_groups/'), ('members', [OrderedDict([('entry_nr', 7037997), ('entry_url', 'https://omabrowser.org/api/protein/7037997/'), ('omaid', 'BRAFL04526'), ('canonicalid', 'C3YXH3'), ('sequence_md5', 'd4fd518c99ca213e8982ef408565369a'), ('oma_group', 766309), ('oma_hog_id', 'HOG:0279153'), ('chromosome', 'scaffold_51'), ('locus', OrderedDict([('start', 2564191), ('end', 2570974), ('strand', -1)])), ('is_main_isoform', True)]), OrderedDict([('entry_nr', 7080367), ('entry_url', 'https://omabrowser.org/api/protein/7080367/'), ('omaid', 'LEPOC07666'), ('canonicalid', 'W5N8V4'), ('sequence_md5', '2daaeea6a5a6c8aaac15bfda0b251216'), ('oma_group', 766309), ('oma_hog_id', 'HOG:0279153.1b'), ('chromosome', 'LG2'), ('locus', OrderedDict([('start', 60539040), ('end', 60548801), ('strand', 1)])), ('is_main_isoform', True)]), OrderedDict([('entry_nr', 7109772), ('entry_url', 'https://omabrowser.org/api/protein/7109772/'), ('omaid', 'GASAC18178'), ('canonicalid', 'G3Q6V4'), ('sequence_md5', '631214e9b81935899a02f1e5c71c8fa0'), ('oma_group', 766309), ('oma_hog_id', 'HOG:0279153.1b'), ('chromosome', 'groupVII'), ('locus', OrderedDict([('start', 4324798), ('end', 4328191), ('strand', -1)])), ('is_main_isoform', True)]), OrderedDict([('entry_nr', 7128071), ('entry_url', 'https://omabrowser.org/api/protein/7128071/'), ('omaid', 'TAKRU14704'), ('canonicalid', 'H2U134'), ('sequence_md5', '5f488c6d8c0e90aa1091124f246c8012'), ('oma_group', 766309), ('oma_hog_id', 'HOG:0279153.1b'), ('chromosome', 'scaffold_63'), ('locus', OrderedDict([('start', 262177), ('end', 264651), ('strand', 1)])), ('is_main_isoform', True)]), OrderedDict([('entry_nr', 7145256), ('entry_url', 'https://omabrowser.org/api/protein/7145256/'), ('omaid', 'TETNG08947'), ('canonicalid', 'H3CXQ0'), ('sequence_md5', '259df41cd3e4a891e48aabceae3c1bec'), ('oma_group', 766309), ('oma_hog_id', 'HOG:0279153.1b'), ('chromosome', '20'), ('locus', OrderedDict([('start', 580510), ('end', 582861), ('strand', -1)])), ('is_main_isoform', True)]), OrderedDict([('entry_nr', 7163754), ('entry_url', 'https://omabrowser.org/api/protein/7163754/'), ('omaid', 'ORYLA07425'), ('canonicalid', 'H2LPP5'), ('sequence_md5', '3333580eda7818d33b9ce691e18362c7'), ('oma_group', 766309), ('oma_hog_id', 'HOG:0279153.1b'), ('chromosome', '18'), ('locus', OrderedDict([('start', 14436591), ('end', 14501992), ('strand', 1)])), ('is_main_isoform', True)]), OrderedDict([('entry_nr', 7182619), ('entry_url', 'https://omabrowser.org/api/protein/7182619/'), ('omaid', 'POEFO05791'), ('canonicalid', 'A0A096MBY3'), ('sequence_md5', 'ef7ddb26cd5a4199012f331af351fc96'), ('oma_group', 766309), ('oma_hog_id', 'HOG:0279153.1b'), ('chromosome', 'KI519651.1'), ('locus', OrderedDict([('start', 452260), ('end', 455843), ('strand', 1)])), ('is_main_isoform', True)]), OrderedDict([('entry_nr', 7213205), ('entry_url', 'https://omabrowser.org/api/protein/7213205/'), ('omaid', 'XIPMA11214'), ('canonicalid', 'P53_XIPMA'), ('sequence_md5', '64ba4101fec307b821ab66ed075bb205'), ('oma_group', 766309), ('oma_hog_id', 'HOG:0279153.1b'), ('chromosome', 'JH556784.1'), ('locus', OrderedDict([('start', 1009648), ('end', 1013445), ('strand', -1)])), ('is_main_isoform', True)]), OrderedDict([('entry_nr', 7241479), ('entry_url', 'https://omabrowser.org/api/protein/7241479/'), ('omaid', 'ORENI19118'), ('canonicalid', 'I3KRX9'), ('sequence_md5', '0e8b44a29a26d5d8a2e0caab17190b1b'), ('oma_group', 766309), ('oma_hog_id', 'HOG:0279153.1b'), ('chromosome', 'GL831455.1'), ('locus', OrderedDict([('start', 310856), ('end', 315476), ('strand', 1)])), ('is_main_isoform', True)]), OrderedDict([('entry_nr', 7275574), ('entry_url', 'https://omabrowser.org/api/protein/7275574/'), ('omaid', 'ASTMX10477'), ('canonicalid', 'W5KI53'), ('sequence_md5', '91e3ff424af29e6a7ad1e95f98f8355b'), ('oma_group', 766309), ('oma_hog_id', 'HOG:0279153.1b.1b'), ('chromosome', 'KB882205.1'), ('locus', OrderedDict([('start', 696125), ('end', 704317), ('strand', -1)])), ('is_main_isoform', True)]), OrderedDict([('entry_nr', 7322050), ('entry_url', 'https://omabrowser.org/api/protein/7322050/'), ('omaid', 'DANRE33874'), ('canonicalid', 'B0R0M3'), ('sequence_md5', 'c4b0f3de35481deedf255265aac884f3'), ('oma_group', 766309), ('oma_hog_id', 'HOG:0279153.1b'), ('chromosome', '5'), ('locus', OrderedDict([('start', 23583235), ('end', 23593082), ('strand', 1)])), ('is_main_isoform', True)]), OrderedDict([('entry_nr', 7342527), ('entry_url', 'https://omabrowser.org/api/protein/7342527/'), ('omaid', 'LATCH10910'), ('canonicalid', 'H3B1Z4'), ('sequence_md5', '21357bfdb45952763c8985f5f678b019'), ('oma_group', 766309), ('oma_hog_id', 'HOG:0279153.1b'), ('chromosome', 'JH127111.1'), ('locus', OrderedDict([('start', 947257), ('end', 961078), ('strand', 1)])), ('is_main_isoform', True)]), OrderedDict([('entry_nr', 7385467), ('entry_url', 'https://omabrowser.org/api/protein/7385467/'), ('omaid', 'PROCA13762'), ('canonicalid', 'ENSPCAG00000012725'), ('sequence_md5', '1cafe8f27b5e3c70550867221afdf7a0'), ('oma_group', 766309), ('oma_hog_id', 'HOG:0279153.1b'), ('chromosome', 'GeneScaffold_2894'), ('locus', OrderedDict([('start', 14753), ('end', 20466), ('strand', -1)])), ('is_main_isoform', True)]), OrderedDict([('entry_nr', 7395672), ('entry_url', 'https://omabrowser.org/api/protein/7395672/'), ('omaid', 'LOXAF07965'), ('canonicalid', 'G3T035'), ('sequence_md5', '9b742b112795a0c82c854c0292967fe7'), ('oma_group', 766309), ('oma_hog_id', 'HOG:0279153.1b.2e'), ('chromosome', 'scaffold_47'), ('locus', OrderedDict([('start', 11688313), ('end', 11693871), ('strand', -1)])), ('is_main_isoform', True)]), OrderedDict([('entry_nr', 7414517), ('entry_url', 'https://omabrowser.org/api/protein/7414517/'), ('omaid', 'ECHTE05760'), ('canonicalid', 'ENSETEG00000009984'), ('sequence_md5', '1614f009d8a7132ecc39b9ae18a87b10'), ('oma_group', 766309), ('oma_hog_id', 'HOG:0279153.1b.3b'), ('chromosome', 'GeneScaffold_8945'), ('locus', OrderedDict([('start', 41334), ('end', 43022), ('strand', -1)])), ('is_main_isoform', True)]), OrderedDict([('entry_nr', 7432451), ('entry_url', 'https://omabrowser.org/api/protein/7432451/'), ('omaid', 'RABIT07195'), ('canonicalid', 'G1SEU0'), ('sequence_md5', '8ea17cb41b7ccbc576cc4eb1929f4f59'), ('oma_group', 766309), ('oma_hog_id', 'HOG:0279153.1b.5b.1b'), ('chromosome', '19'), ('locus', OrderedDict([('start', 11527505), ('end', 11530702), ('strand', 1)])), ('is_main_isoform', True)]), OrderedDict([('entry_nr', 7454236), ('entry_url', 'https://omabrowser.org/api/protein/7454236/'), ('omaid', 'OCHPR09613'), ('canonicalid', 'ENSOPRG00000006441'), ('sequence_md5', '9ce8bd167c10813b17f2410248b48cf2'), ('oma_group', 766309), ('oma_hog_id', 'HOG:0279153.1b.5b'), ('chromosome', 'GeneScaffold_2552'), ('locus', OrderedDict([('start', 47448), ('end', 50382), ('strand', -1)])), ('is_main_isoform', True)]), OrderedDict([('entry_nr', 7481806), ('entry_url', 'https://omabrowser.org/api/protein/7481806/'), ('omaid', 'CAVPO05597'), ('canonicalid', 'P53_CAVPO'), ('sequence_md5', '49c868de05a53201e1ebd7895b895c31'), ('oma_group', 766309), ('oma_hog_id', 'HOG:0279153.1b.5b'), ('chromosome', 'scaffold_61'), ('locus', OrderedDict([('start', 8989108), ('end', 8992998), ('strand', 1)])), ('is_main_isoform', True)]), OrderedDict([('entry_nr', 7498559), ('entry_url', 'https://omabrowser.org/api/protein/7498559/'), ('omaid', 'MOUSE03410'), ('canonicalid', 'Q549C9'), ('sequence_md5', '577624bc709f3c8fe14874854c8061f9'), ('oma_group', 766309), ('oma_hog_id', 'HOG:0279153.1b.5a'), ('chromosome', '11'), ('locus', OrderedDict([('start', 69586891), ('end', 69591431), ('strand', 1)])), ('is_main_isoform', True)]), OrderedDict([('entry_nr', 7560819), ('entry_url', 'https://omabrowser.org/api/protein/7560819/'), ('omaid', 'ICTTR16589'), ('canonicalid', 'I3N5N2'), ('sequence_md5', '340c8592ae15d35ed4f11ddae53979d4'), ('oma_group', 766309), ('oma_hog_id', 'HOG:0279153.1b.5b'), ('chromosome', 'JH393405.1'), ('locus', OrderedDict([('start', 920449), ('end', 925400), ('strand', -1)])), ('is_main_isoform', True)]), OrderedDict([('entry_nr', 7568481), ('entry_url', 'https://omabrowser.org/api/protein/7568481/'), ('omaid', 'CHLSB05212'), ('canonicalid', 'A0A0D9RG12'), ('sequence_md5', '8c53a2cc20239b50bed4aaf045015e96'), ('oma_group', 766309), ('oma_hog_id', 'HOG:0279153.1b'), ('chromosome', '16'), ('locus', OrderedDict([('start', 7048863), ('end', 7055871), ('strand', -1)])), ('is_main_isoform', True)]), OrderedDict([('entry_nr', 7591756), ('entry_url', 'https://omabrowser.org/api/protein/7591756/'), ('omaid', 'MACMU09315'), ('canonicalid', 'P53_MACMU'), ('sequence_md5', 'c7926dfc6edf4cacb2dc853f7ea4bd5c'), ('oma_group', 766309), ('oma_hog_id', 'HOG:0279153.1b'), ('chromosome', '16'), ('locus', OrderedDict([('start', 7399793), ('end', 7407511), ('strand', -1)])), ('is_main_isoform', True)]), OrderedDict([('entry_nr', 7614500), ('entry_url', 'https://omabrowser.org/api/protein/7614500/'), ('omaid', 'PAPAN07289'), ('canonicalid', 'A0A096P2R8'), ('sequence_md5', '4b9c21915265e8cf7e5a8c34a6973da8'), ('oma_group', 766309), ('oma_hog_id', 'HOG:0279153.1b'), ('chromosome', '16'), ('locus', OrderedDict([('start', 7357411), ('end', 7364390), ('strand', -1)])), ('is_main_isoform', True)]), OrderedDict([('entry_nr', 7634976), ('entry_url', 'https://omabrowser.org/api/protein/7634976/'), ('omaid', 'GORGO08436'), ('canonicalid', 'G3R2U9'), ('sequence_md5', '36e0f17f2055f2b01dd85b6b96b5e32e'), ('oma_group', 766309), ('oma_hog_id', 'HOG:0279153.1b'), ('chromosome', '17'), ('locus', OrderedDict([('start', 7872480), ('end', 7879453), ('strand', -1)])), ('is_main_isoform', True)]), OrderedDict([('entry_nr', 7660315), ('entry_url', 'https://omabrowser.org/api/protein/7660315/'), ('omaid', 'HUMAN11953'), ('canonicalid', 'P53_HUMAN'), ('sequence_md5', 'c133dfce69f606f20865e9008199f852'), ('oma_group', 766309), ('oma_hog_id', 'HOG:0279153.1b'), ('chromosome', '17'), ('locus', OrderedDict([('start', 7669609), ('end', 7676594), ('strand', -1)])), ('is_main_isoform', True)]), OrderedDict([('entry_nr', 7686126), ('entry_url', 'https://omabrowser.org/api/protein/7686126/'), ('omaid', 'PANTR07055'), ('canonicalid', 'H2QC53'), ('sequence_md5', 'c133dfce69f606f20865e9008199f852'), ('oma_group', 766309), ('oma_hog_id', 'HOG:0279153.1b'), ('chromosome', '17'), ('locus', OrderedDict([('start', 7736902), ('end', 7743761), ('strand', -1)])), ('is_main_isoform', True)]), OrderedDict([('entry_nr', 7703449), ('entry_url', 'https://omabrowser.org/api/protein/7703449/'), ('omaid', 'PONAB05442'), ('canonicalid', 'H2NSL2'), ('sequence_md5', '6a4d3628e33883ddc0e53d047a5d71f8'), ('oma_group', 766309), ('oma_hog_id', 'HOG:0279153.1b'), ('chromosome', '17'), ('locus', OrderedDict([('start', 7677250), ('end', 7684216), ('strand', -1)])), ('is_main_isoform', True)]), OrderedDict([('entry_nr', 7729590), ('entry_url', 'https://omabrowser.org/api/protein/7729590/'), ('omaid', 'NOMLE13163'), ('canonicalid', 'G1RF61'), ('sequence_md5', '9463f148f155f51c921a34ce714a2753'), ('oma_group', 766309), ('oma_hog_id', 'HOG:0279153.1b'), ('chromosome', 'GL397365.1'), ('locus', OrderedDict([('start', 2702460), ('end', 2709747), ('strand', -1)])), ('is_main_isoform', True)]), OrderedDict([('entry_nr', 7751580), ('entry_url', 'https://omabrowser.org/api/protein/7751580/'), ('omaid', 'CALJA16436'), ('canonicalid', 'F7GNX0'), ('sequence_md5', '87a1d702c4f244dfd00115c6c7becb47'), ('oma_group', 766309), ('oma_hog_id', 'HOG:0279153.1b'), ('chromosome', '5'), ('locus', OrderedDict([('start', 74166679), ('end', 74173155), ('strand', 1)])), ('is_main_isoform', True)]), OrderedDict([('entry_nr', 7781330), ('entry_url', 'https://omabrowser.org/api/protein/7781330/'), ('omaid', 'MICMU08633'), ('canonicalid', 'ENSMICG00000014853'), ('sequence_md5', 'e2eaa97e8c8c43d28eb6533896c8eee6'), ('oma_group', 766309), ('oma_hog_id', 'HOG:0279153.1b'), ('chromosome', 'GeneScaffold_2967'), ('locus', OrderedDict([('start', 109082), ('end', 113315), ('strand', -1)])), ('is_main_isoform', True)]), OrderedDict([('entry_nr', 7799819), ('entry_url', 'https://omabrowser.org/api/protein/7799819/'), ('omaid', 'OTOGA10899'), ('canonicalid', 'H0XGB0'), ('sequence_md5', '2b496a3e769ebc366bba0113700e97fa'), ('oma_group', 766309), ('oma_hog_id', 'HOG:0279153.1b'), ('chromosome', 'GL873565.1'), ('locus', OrderedDict([('start', 11647848), ('end', 11655521), ('strand', 1)])), ('is_main_isoform', True)]), OrderedDict([('entry_nr', 7808880), ('entry_url', 'https://omabrowser.org/api/protein/7808880/'), ('omaid', 'TUPBE00446'), ('canonicalid', 'ENSTBEG00000011771'), ('sequence_md5', 'e3069f12475ec6ae209b88dc546227c0'), ('oma_group', 766309), ('oma_hog_id', 'HOG:0279153.1b'), ('chromosome', 'GeneScaffold_2822'), ('locus', OrderedDict([('start', 905), ('end', 6484), ('strand', -1)])), ('is_main_isoform', True)]), OrderedDict([('entry_nr', 7839272), ('entry_url', 'https://omabrowser.org/api/protein/7839272/'), ('omaid', 'CANLF15465'), ('canonicalid', 'F1PI27'), ('sequence_md5', 'ff56f63a9c15d6dedf9683892cc784b4'), ('oma_group', 766309), ('oma_hog_id', 'HOG:0279153.1b'), ('chromosome', '5'), ('locus', OrderedDict([('start', 32561406), ('end', 32565150), ('strand', -1)])), ('is_main_isoform', True)]), OrderedDict([('entry_nr', 7854550), ('entry_url', 'https://omabrowser.org/api/protein/7854550/'), ('omaid', 'MUSPF10133'), ('canonicalid', 'M3YC88'), ('sequence_md5', 'c3f90f6e306bac7bf4b96534686d2876'), ('oma_group', 766309), ('oma_hog_id', 'HOG:0279153.1b'), ('chromosome', 'GL896973.1'), ('locus', OrderedDict([('start', 6559305), ('end', 6562843), ('strand', 1)])), ('is_main_isoform', True)]), OrderedDict([('entry_nr', 7871746), ('entry_url', 'https://omabrowser.org/api/protein/7871746/'), ('omaid', 'AILME07424'), ('canonicalid', 'G1MEP6'), ('sequence_md5', '07e0ac8b45f92bfcc7926d73473a3147'), ('oma_group', 766309), ('oma_hog_id', 'HOG:0279153.1b'), ('chromosome', 'GL193146.1'), ('locus', OrderedDict([('start', 765573), ('end', 768890), ('strand', -1)])), ('is_main_isoform', True)]), OrderedDict([('entry_nr', 7898842), ('entry_url', 'https://omabrowser.org/api/protein/7898842/'), ('omaid', 'FELCA14704'), ('canonicalid', 'P53_FELCA'), ('sequence_md5', 'f07624f17b6e8e279770154734ba2f3e'), ('oma_group', 766309), ('oma_hog_id', 'HOG:0279153.1b'), ('chromosome', 'E1'), ('locus', OrderedDict([('start', 2449162), ('end', 2452464), ('strand', -1)])), ('is_main_isoform', True)]), OrderedDict([('entry_nr', 7917334), ('entry_url', 'https://omabrowser.org/api/protein/7917334/'), ('omaid', 'TURTR13573'), ('canonicalid', 'ENSTTRG00000010250'), ('sequence_md5', 'b01be985d3a92140c5b929592ea58e43'), ('oma_group', 766309), ('oma_hog_id', 'HOG:0279153.1b'), ('chromosome', 'GeneScaffold_2225'), ('locus', OrderedDict([('start', 109298), ('end', 112852), ('strand', -1)])), ('is_main_isoform', True)]), OrderedDict([('entry_nr', 7927949), ('entry_url', 'https://omabrowser.org/api/protein/7927949/'), ('omaid', 'BOVIN07692'), ('canonicalid', 'P53_BOVIN'), ('sequence_md5', 'e41a4ceb8a9f2ab2e0a9e4e360e9850f'), ('oma_group', 766309), ('oma_hog_id', 'HOG:0279153.1b'), ('chromosome', '19'), ('locus', OrderedDict([('start', 27986354), ('end', 27989909), ('strand', -1)])), ('is_main_isoform', True)]), OrderedDict([('entry_nr', 7943330), ('entry_url', 'https://omabrowser.org/api/protein/7943330/'), ('omaid', 'SHEEP02763'), ('canonicalid', 'C3VC56'), ('sequence_md5', '32a28947542ac73349603e50d2a2fa88'), ('oma_group', 766309), ('oma_hog_id', 'HOG:0279153.1b'), ('chromosome', '11'), ('locus', OrderedDict([('start', 26935155), ('end', 26938974), ('strand', -1)])), ('is_main_isoform', True)]), OrderedDict([('entry_nr', 7965259), ('entry_url', 'https://omabrowser.org/api/protein/7965259/'), ('omaid', 'PIGXX03608'), ('canonicalid', 'P53_PIG'), ('sequence_md5', '18e6cdcaefe856d950895c2928319515'), ('oma_group', 766309), ('oma_hog_id', 'HOG:0279153.1b'), ('chromosome', '12'), ('locus', OrderedDict([('start', 55229939), ('end', 55234137), ('strand', 1)])), ('is_main_isoform', True)]), OrderedDict([('entry_nr', 8026773), ('entry_url', 'https://omabrowser.org/api/protein/8026773/'), ('omaid', 'MYOLU14260'), ('canonicalid', 'L7N1B2'), ('sequence_md5', '41a931b678d429cb772faa13995c0922'), ('oma_group', 766309), ('oma_hog_id', 'HOG:0279153.1b.4a'), ('chromosome', 'GL430187'), ('locus', OrderedDict([('start', 7193), ('end', 11815), ('strand', -1)])), ('is_main_isoform', True)]), OrderedDict([('entry_nr', 8045817), ('entry_url', 'https://omabrowser.org/api/protein/8045817/'), ('omaid', 'ERIEU13442'), ('canonicalid', 'ENSEEUG00000014573'), ('sequence_md5', 'a6c336043c86259c1d5a50954da32ba0'), ('oma_group', 766309), ('oma_hog_id', 'HOG:0279153.1b'), ('chromosome', 'GeneScaffold_4509'), ('locus', OrderedDict([('start', 771), ('end', 6038), ('strand', -1)])), ('is_main_isoform', True)]), OrderedDict([('entry_nr', 8059856), ('entry_url', 'https://omabrowser.org/api/protein/8059856/'), ('omaid', 'SORAR12993'), ('canonicalid', 'ENSSARG00000006206'), ('sequence_md5', '3ad23d7d34e2493f76936e4c928cfc34'), ('oma_group', 766309), ('oma_hog_id', 'HOG:0279153.1b'), ('chromosome', 'GeneScaffold_1637'), ('locus', OrderedDict([('start', 375254), ('end', 381472), ('strand', -1)])), ('is_main_isoform', True)]), OrderedDict([('entry_nr', 8099092), ('entry_url', 'https://omabrowser.org/api/protein/8099092/'), ('omaid', 'DASNO18728'), ('canonicalid', 'ENSDNOG00000005252'), ('sequence_md5', 'a4dd2f7a055d0cf04b3c6331a715d6c5'), ('oma_group', 766309), ('oma_hog_id', 'HOG:0279153.1b'), ('chromosome', 'JH570034.1'), ('locus', OrderedDict([('start', 295330), ('end', 299876), ('strand', -1)])), ('is_main_isoform', True)]), OrderedDict([('entry_nr', 8131742), ('entry_url', 'https://omabrowser.org/api/protein/8131742/'), ('omaid', 'SARHA15516'), ('canonicalid', 'G3WS63'), ('sequence_md5', '8bc24847f6db979a36818851f1de244a'), ('oma_group', 766309), ('oma_hog_id', 'HOG:0263175'), ('chromosome', 'GL856861.1'), ('locus', OrderedDict([('start', 1819974), ('end', 1825400), ('strand', 1)])), ('is_main_isoform', True)]), OrderedDict([('entry_nr', 8251824), ('entry_url', 'https://omabrowser.org/api/protein/8251824/'), ('omaid', 'PELSI05784'), ('canonicalid', 'K7G3P4'), ('sequence_md5', '9d613f4ad3a90bcec8e907533918c32b'), ('oma_group', 766309), ('oma_hog_id', 'HOG:0279153.1b'), ('chromosome', 'JH205571.1'), ('locus', OrderedDict([('start', 796927), ('end', 805786), ('strand', 1)])), ('is_main_isoform', True)]), OrderedDict([('entry_nr', 8294629), ('entry_url', 'https://omabrowser.org/api/protein/8294629/'), ('omaid', 'XENTR12242'), ('canonicalid', 'F7A9U0'), ('sequence_md5', '42b1e4e37ce8e75e059978a848e5e076'), ('oma_group', 766309), ('oma_hog_id', 'HOG:0279153.1b'), ('chromosome', 'GL173076.1'), ('locus', OrderedDict([('start', 74783), ('end', 79188), ('strand', -1)])), ('is_main_isoform', True)]), OrderedDict([('entry_nr', 9560348), ('entry_url', 'https://omabrowser.org/api/protein/9560348/'), ('omaid', 'OCTBM07059'), ('canonicalid', 'A0A0L8G262'), ('sequence_md5', 'c6ce3713d4133ca56bc9b04992918874'), ('oma_group', 766309), ('oma_hog_id', 'HOG:0356724'), ('chromosome', 'KQ424477'), ('locus', OrderedDict([('start', 15), ('end', 40599), ('strand', -1)])), ('is_main_isoform', True)])])])\n"
     ]
    }
   ],
   "source": [
    "# Function for getting OMA orthologous group\n",
    "def get_orthogroup(ID):\n",
    "    action = [\"group\", \"read\"]\n",
    "    params = {\n",
    "        \"group_id\": ID\n",
    "    }\n",
    "    result = client.action(schema, action, params=params)\n",
    "    return(result)\n",
    "\n",
    "# Get orthologous group for seed protein\n",
    "orthogroup = get_orthogroup(seedID)\n",
    "\n",
    "print(len(orthogroup[\"members\"]))  # check number of group members\n",
    "print(orthogroup)"
   ]
  },
  {
   "cell_type": "code",
   "execution_count": 26,
   "metadata": {},
   "outputs": [],
   "source": [
    "# Function for getting taxonomy ID\n",
    "def get_taxonomy_info(ID):\n",
    "    action = [\"taxonomy\", \"read\"]\n",
    "    params = {\n",
    "        \"root_id\": ID # either species name or the 5 letter UniProt species code\n",
    "    }\n",
    "    result = client.action(schema, action, params=params)\n",
    "    return(result)"
   ]
  },
  {
   "cell_type": "code",
   "execution_count": 34,
   "metadata": {},
   "outputs": [
    {
     "name": "stdout",
     "output_type": "stream",
     "text": [
      "P53_HUMAN\tncbi7739\tBRAFL04526\n",
      "P53_HUMAN\tncbi7918\tLEPOC07666\n",
      "P53_HUMAN\tncbi69293\tGASAC18178\n",
      "P53_HUMAN\tncbi31033\tTAKRU14704\n",
      "P53_HUMAN\tncbi99883\tTETNG08947\n",
      "P53_HUMAN\tncbi8090\tORYLA07425\n",
      "P53_HUMAN\tncbi48698\tPOEFO05791\n",
      "P53_HUMAN\tncbi8083\tXIPMA11214\n",
      "P53_HUMAN\tncbi8128\tORENI19118\n",
      "P53_HUMAN\tncbi7994\tASTMX10477\n",
      "P53_HUMAN\tncbi7955\tDANRE33874\n",
      "P53_HUMAN\tncbi7897\tLATCH10910\n",
      "P53_HUMAN\tncbi9813\tPROCA13762\n",
      "P53_HUMAN\tncbi9785\tLOXAF07965\n",
      "P53_HUMAN\tncbi9371\tECHTE05760\n",
      "P53_HUMAN\tncbi9986\tRABIT07195\n",
      "P53_HUMAN\tncbi9978\tOCHPR09613\n",
      "P53_HUMAN\tncbi10141\tCAVPO05597\n",
      "P53_HUMAN\tncbi10090\tMOUSE03410\n",
      "P53_HUMAN\tncbi43179\tICTTR16589\n",
      "P53_HUMAN\tncbi60711\tCHLSB05212\n",
      "P53_HUMAN\tncbi9544\tMACMU09315\n",
      "P53_HUMAN\tncbi9555\tPAPAN07289\n",
      "P53_HUMAN\tncbi9595\tGORGO08436\n",
      "P53_HUMAN\tncbi9606\tHUMAN11953\n",
      "P53_HUMAN\tncbi9598\tPANTR07055\n",
      "P53_HUMAN\tncbi9601\tPONAB05442\n",
      "P53_HUMAN\tncbi61853\tNOMLE13163\n",
      "P53_HUMAN\tncbi9483\tCALJA16436\n",
      "P53_HUMAN\tncbi30608\tMICMU08633\n",
      "P53_HUMAN\tncbi30611\tOTOGA10899\n",
      "P53_HUMAN\tncbi37347\tTUPBE00446\n",
      "P53_HUMAN\tncbi9615\tCANLF15465\n",
      "P53_HUMAN\tncbi9669\tMUSPF10133\n",
      "P53_HUMAN\tncbi9646\tAILME07424\n",
      "P53_HUMAN\tncbi9685\tFELCA14704\n",
      "P53_HUMAN\tncbi9739\tTURTR13573\n",
      "P53_HUMAN\tncbi9913\tBOVIN07692\n",
      "P53_HUMAN\tncbi9940\tSHEEP02763\n",
      "P53_HUMAN\tncbi9823\tPIGXX03608\n",
      "P53_HUMAN\tncbi59463\tMYOLU14260\n",
      "P53_HUMAN\tncbi9365\tERIEU13442\n",
      "P53_HUMAN\tncbi42254\tSORAR12993\n",
      "P53_HUMAN\tncbi9361\tDASNO18728\n",
      "P53_HUMAN\tncbi9305\tSARHA15516\n",
      "P53_HUMAN\tncbi13735\tPELSI05784\n",
      "P53_HUMAN\tncbi8364\tXENTR12242\n",
      "P53_HUMAN\tncbi37653\tOCTBM07059\n"
     ]
    }
   ],
   "source": [
    "# Get information for group members\n",
    "members = orthogroup[\"members\"]\n",
    "for prot in members:\n",
    "    protID = prot[\"omaid\"]\n",
    "    taxonID = get_taxonomy_info(protID[:5])[\"id\"]\n",
    "    print(\"%s\\tncbi%s\\t%s\" % (seedID,taxonID, protID))"
   ]
  },
  {
   "cell_type": "code",
   "execution_count": null,
   "metadata": {},
   "outputs": [],
   "source": [
    "# List of seed proteins\n",
    "mySeeds = [\"RATNO03709\", \"RATNO03710\", \"RATNO03711\"]\n",
    "\n",
    "# Output files\n",
    "profileOut = \"output.phyloprofile\"\n",
    "profileOutFile = open(profileOut,\"w\")\n",
    "\n",
    "fastaOut = \"output.fa\"\n",
    "fastaOutFile = open(fastaOut,\"w\")\n",
    "\n",
    "domainOut = \"output.domains\"\n",
    "domainOutFile = open(domainOut,\"w\")\n",
    "\n",
    "# RUN\n",
    "for seedID in mySeeds:\n",
    "    # get seed sequence\n",
    "    seedSeq = \">\" + id + \"\\n\" + get_seq(seedID)[\"sequence\"] + \"\\n\"\n",
    "    #fastaOutFile.write(seedSeq)\n",
    "    \n",
    "    # get seed annotation\n",
    "    seedAnno = print_domain(get_anno(seedID),seedID)\n",
    "    #domainOutFile.write(seedAnno)\n",
    "    \n",
    "    # get orthologous group\n",
    "    for prot in get_orthogroup(seedID)[\"members\"]:\n",
    "        protID = prot[\"omaid\"]\n",
    "        taxonID = get_taxonomy_info(protID[:5])[\"id\"]\n",
    "        ortho = \"%s\\tncbi%s\\t%s\" % (seedID,taxonID, protID)\n",
    "        profileOutFile.write(ortho)\n",
    "        \n",
    "        protSeq = \">\" + id + \"\\n\" + get_seq(protID)[\"sequence\"] + \"\\n\"\n",
    "        fastaOutFile.write(protSeq)\n",
    "        \n",
    "        protAnno = print_domain(get_anno(protID),protID)\n",
    "        domainOutFile.write(protAnno)\n",
    "        "
   ]
  },
  {
   "cell_type": "code",
   "execution_count": null,
   "metadata": {},
   "outputs": [],
   "source": []
  }
 ],
 "metadata": {
  "kernelspec": {
   "display_name": "Python 3",
   "language": "python",
   "name": "python3"
  },
  "language_info": {
   "codemirror_mode": {
    "name": "ipython",
    "version": 3
   },
   "file_extension": ".py",
   "mimetype": "text/x-python",
   "name": "python",
   "nbconvert_exporter": "python",
   "pygments_lexer": "ipython3",
   "version": "3.6.4"
  }
 },
 "nbformat": 4,
 "nbformat_minor": 2
}
